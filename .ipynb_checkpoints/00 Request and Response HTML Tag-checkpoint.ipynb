{
 "cells": [
  {
   "cell_type": "code",
   "execution_count": 1,
   "id": "3f99bd07",
   "metadata": {},
   "outputs": [
    {
     "name": "stdout",
     "output_type": "stream",
     "text": [
      "Completed page number 1\n",
      "Completed page number 2\n",
      "Completed page number 3\n",
      "Completed page number 4\n",
      "Completed page number 5\n",
      "Completed page number 6\n"
     ]
    }
   ],
   "source": [
    "import requests\n",
    "import bs4\n",
    "\n",
    "name_list = []\n",
    "link_list = []\n",
    "\n",
    "for page in range(1,7):\n",
    "    url = 'https://www.checkraka.com/house/?quicksearch_order=update%2CDESC&page=' + str(page)\n",
    "    data = requests.get('https://www.checkraka.com/house/?quicksearch_order=update,DESC')\n",
    "    soup = bs4.BeautifulSoup(data.text)\n",
    "    resident_list = soup.find_all('div',{'class':'content c44'})\n",
    "\n",
    "    for resident in resident_list:\n",
    "        first_ul = resident.find_all('ul',recursive=False)[0]\n",
    "        second_li = first_ul.find_all('li',recursive=False)[1]\n",
    "        data = second_li.find('a')\n",
    "        link_list.append('https://www.checkraka.com' + data.get('href'))\n",
    "        name_list.append(data.text)\n",
    "    print('Completed page number',page)\n"
   ]
  },
  {
   "cell_type": "code",
   "execution_count": 3,
   "id": "8331ea97",
   "metadata": {},
   "outputs": [
    {
     "data": {
      "text/plain": [
       "['สิริ เพลส แอร์พอร์ต ภูเก็ต (Siri Place Airport)',\n",
       " 'คณาสิริ ศาลายา - ปิ่นเกล้า (Kanasiri Salaya - Pinklao)',\n",
       " 'คณาสิริ พระราม 2 - วงแหวน (Kanasiri Rama 2 - Wongwaen)',\n",
       " 'บุราสิริ รังสิต (Burasiri Rangsit)',\n",
       " 'สราญสิริ โคราช (Saransiri Korat)',\n",
       " 'เอชเคป ซีรีน บางนา - วงแหวน (H-CAPE Serene Bangna - Wongwaen)',\n",
       " 'บุราสิริ สันผีเสื้อ เชียงใหม่ (Burasiri Sanphisuea Chiangmai)',\n",
       " 'ทาวน์ อเวนิว สองแคว-พิษณุโลก (Town Avenue Songkwae-Phitsanuloke)',\n",
       " 'คณาสิริ ชัยพฤกษ์ - วงแหวน (Kanasiri Chaiyapruek - Wongwaen)',\n",
       " 'ฮาบิเทีย ไพร์ม ราชพฤกษ์ (Habitia Prime Ratchapruek)',\n",
       " 'สิริ เพลส แอร์พอร์ต ภูเก็ต (Siri Place Airport)',\n",
       " 'คณาสิริ ศาลายา - ปิ่นเกล้า (Kanasiri Salaya - Pinklao)',\n",
       " 'คณาสิริ พระราม 2 - วงแหวน (Kanasiri Rama 2 - Wongwaen)',\n",
       " 'บุราสิริ รังสิต (Burasiri Rangsit)',\n",
       " 'สราญสิริ โคราช (Saransiri Korat)',\n",
       " 'เอชเคป ซีรีน บางนา - วงแหวน (H-CAPE Serene Bangna - Wongwaen)',\n",
       " 'บุราสิริ สันผีเสื้อ เชียงใหม่ (Burasiri Sanphisuea Chiangmai)',\n",
       " 'ทาวน์ อเวนิว สองแคว-พิษณุโลก (Town Avenue Songkwae-Phitsanuloke)',\n",
       " 'คณาสิริ ชัยพฤกษ์ - วงแหวน (Kanasiri Chaiyapruek - Wongwaen)',\n",
       " 'ฮาบิเทีย ไพร์ม ราชพฤกษ์ (Habitia Prime Ratchapruek)',\n",
       " 'สิริ เพลส แอร์พอร์ต ภูเก็ต (Siri Place Airport)',\n",
       " 'คณาสิริ ศาลายา - ปิ่นเกล้า (Kanasiri Salaya - Pinklao)',\n",
       " 'คณาสิริ พระราม 2 - วงแหวน (Kanasiri Rama 2 - Wongwaen)',\n",
       " 'บุราสิริ รังสิต (Burasiri Rangsit)',\n",
       " 'สราญสิริ โคราช (Saransiri Korat)',\n",
       " 'เอชเคป ซีรีน บางนา - วงแหวน (H-CAPE Serene Bangna - Wongwaen)',\n",
       " 'บุราสิริ สันผีเสื้อ เชียงใหม่ (Burasiri Sanphisuea Chiangmai)',\n",
       " 'ทาวน์ อเวนิว สองแคว-พิษณุโลก (Town Avenue Songkwae-Phitsanuloke)',\n",
       " 'คณาสิริ ชัยพฤกษ์ - วงแหวน (Kanasiri Chaiyapruek - Wongwaen)',\n",
       " 'ฮาบิเทีย ไพร์ม ราชพฤกษ์ (Habitia Prime Ratchapruek)',\n",
       " 'สิริ เพลส แอร์พอร์ต ภูเก็ต (Siri Place Airport)',\n",
       " 'คณาสิริ ศาลายา - ปิ่นเกล้า (Kanasiri Salaya - Pinklao)',\n",
       " 'คณาสิริ พระราม 2 - วงแหวน (Kanasiri Rama 2 - Wongwaen)',\n",
       " 'บุราสิริ รังสิต (Burasiri Rangsit)',\n",
       " 'สราญสิริ โคราช (Saransiri Korat)',\n",
       " 'เอชเคป ซีรีน บางนา - วงแหวน (H-CAPE Serene Bangna - Wongwaen)',\n",
       " 'บุราสิริ สันผีเสื้อ เชียงใหม่ (Burasiri Sanphisuea Chiangmai)',\n",
       " 'ทาวน์ อเวนิว สองแคว-พิษณุโลก (Town Avenue Songkwae-Phitsanuloke)',\n",
       " 'คณาสิริ ชัยพฤกษ์ - วงแหวน (Kanasiri Chaiyapruek - Wongwaen)',\n",
       " 'ฮาบิเทีย ไพร์ม ราชพฤกษ์ (Habitia Prime Ratchapruek)',\n",
       " 'สิริ เพลส แอร์พอร์ต ภูเก็ต (Siri Place Airport)',\n",
       " 'คณาสิริ ศาลายา - ปิ่นเกล้า (Kanasiri Salaya - Pinklao)',\n",
       " 'คณาสิริ พระราม 2 - วงแหวน (Kanasiri Rama 2 - Wongwaen)',\n",
       " 'บุราสิริ รังสิต (Burasiri Rangsit)',\n",
       " 'สราญสิริ โคราช (Saransiri Korat)',\n",
       " 'เอชเคป ซีรีน บางนา - วงแหวน (H-CAPE Serene Bangna - Wongwaen)',\n",
       " 'บุราสิริ สันผีเสื้อ เชียงใหม่ (Burasiri Sanphisuea Chiangmai)',\n",
       " 'ทาวน์ อเวนิว สองแคว-พิษณุโลก (Town Avenue Songkwae-Phitsanuloke)',\n",
       " 'คณาสิริ ชัยพฤกษ์ - วงแหวน (Kanasiri Chaiyapruek - Wongwaen)',\n",
       " 'ฮาบิเทีย ไพร์ม ราชพฤกษ์ (Habitia Prime Ratchapruek)',\n",
       " 'สิริ เพลส แอร์พอร์ต ภูเก็ต (Siri Place Airport)',\n",
       " 'คณาสิริ ศาลายา - ปิ่นเกล้า (Kanasiri Salaya - Pinklao)',\n",
       " 'คณาสิริ พระราม 2 - วงแหวน (Kanasiri Rama 2 - Wongwaen)',\n",
       " 'บุราสิริ รังสิต (Burasiri Rangsit)',\n",
       " 'สราญสิริ โคราช (Saransiri Korat)',\n",
       " 'เอชเคป ซีรีน บางนา - วงแหวน (H-CAPE Serene Bangna - Wongwaen)',\n",
       " 'บุราสิริ สันผีเสื้อ เชียงใหม่ (Burasiri Sanphisuea Chiangmai)',\n",
       " 'ทาวน์ อเวนิว สองแคว-พิษณุโลก (Town Avenue Songkwae-Phitsanuloke)',\n",
       " 'คณาสิริ ชัยพฤกษ์ - วงแหวน (Kanasiri Chaiyapruek - Wongwaen)',\n",
       " 'ฮาบิเทีย ไพร์ม ราชพฤกษ์ (Habitia Prime Ratchapruek)']"
      ]
     },
     "execution_count": 3,
     "metadata": {},
     "output_type": "execute_result"
    }
   ],
   "source": [
    "name"
   ]
  },
  {
   "cell_type": "code",
   "execution_count": null,
   "id": "f6a083a4",
   "metadata": {},
   "outputs": [],
   "source": []
  },
  {
   "cell_type": "code",
   "execution_count": null,
   "id": "9b226a97",
   "metadata": {},
   "outputs": [],
   "source": []
  },
  {
   "cell_type": "code",
   "execution_count": null,
   "id": "3cc8d381",
   "metadata": {},
   "outputs": [],
   "source": []
  },
  {
   "cell_type": "code",
   "execution_count": null,
   "id": "f61a29e5",
   "metadata": {},
   "outputs": [],
   "source": []
  },
  {
   "cell_type": "markdown",
   "id": "029932a3",
   "metadata": {},
   "source": [
    "https://www.checkraka.com/house/?quicksearch_order=update%2CDESC&page=2"
   ]
  },
  {
   "cell_type": "code",
   "execution_count": null,
   "id": "eadd2320",
   "metadata": {},
   "outputs": [],
   "source": []
  },
  {
   "cell_type": "code",
   "execution_count": null,
   "id": "dc9be859",
   "metadata": {},
   "outputs": [],
   "source": []
  },
  {
   "cell_type": "code",
   "execution_count": null,
   "id": "68f77f4d",
   "metadata": {},
   "outputs": [],
   "source": []
  },
  {
   "cell_type": "code",
   "execution_count": null,
   "id": "72aba32f",
   "metadata": {},
   "outputs": [],
   "source": []
  },
  {
   "cell_type": "code",
   "execution_count": null,
   "id": "a6ba0a1f",
   "metadata": {},
   "outputs": [],
   "source": []
  },
  {
   "cell_type": "code",
   "execution_count": null,
   "id": "4ecb05db",
   "metadata": {},
   "outputs": [],
   "source": []
  },
  {
   "cell_type": "code",
   "execution_count": null,
   "id": "198d6077",
   "metadata": {},
   "outputs": [],
   "source": []
  },
  {
   "cell_type": "code",
   "execution_count": null,
   "id": "9a05b65b",
   "metadata": {},
   "outputs": [],
   "source": []
  }
 ],
 "metadata": {
  "kernelspec": {
   "display_name": "Python 3",
   "language": "python",
   "name": "python3"
  },
  "language_info": {
   "codemirror_mode": {
    "name": "ipython",
    "version": 3
   },
   "file_extension": ".py",
   "mimetype": "text/x-python",
   "name": "python",
   "nbconvert_exporter": "python",
   "pygments_lexer": "ipython3",
   "version": "3.8.8"
  }
 },
 "nbformat": 4,
 "nbformat_minor": 5
}
