{
 "cells": [
  {
   "cell_type": "code",
   "execution_count": 1,
   "id": "3f99bd07",
   "metadata": {},
   "outputs": [
    {
     "name": "stdout",
     "output_type": "stream",
     "text": [
      "Completed page number 1\n",
      "Completed page number 2\n",
      "Completed page number 3\n",
      "Completed page number 4\n",
      "Completed page number 5\n",
      "Completed page number 6\n",
      "Completed page number 7\n"
     ]
    }
   ],
   "source": [
    "import requests\n",
    "import bs4\n",
    "\n",
    "name_list = []\n",
    "link_list = []\n",
    "\n",
    "for page in range(1,8):\n",
    "    url = 'https://www.checkraka.com/house/?quicksearch_order=update%2CDESC&page=' + str(page)\n",
    "    data = requests.get('https://www.checkraka.com/house/?quicksearch_order=update,DESC')\n",
    "    soup = bs4.BeautifulSoup(data.text)\n",
    "    resident_list = soup.find_all('div',{'class':'content c44'})\n",
    "\n",
    "    for resident in resident_list:\n",
    "        first_ul = resident.find_all('ul',recursive=False)[0]\n",
    "        second_li = first_ul.find_all('li',recursive=False)[1]\n",
    "        data = second_li.find('a')\n",
    "        link_list.append('https://www.checkraka.com' + data.get('href'))\n",
    "        name_list.append(data.text)\n",
    "    print('Completed page number',page)\n"
   ]
  },
  {
   "cell_type": "code",
   "execution_count": 2,
   "id": "ef07cef5",
   "metadata": {},
   "outputs": [],
   "source": [
    "import pandas as pd"
   ]
  },
  {
   "cell_type": "code",
   "execution_count": 6,
   "id": "c04a40a5",
   "metadata": {},
   "outputs": [
    {
     "data": {
      "text/html": [
       "<div>\n",
       "<style scoped>\n",
       "    .dataframe tbody tr th:only-of-type {\n",
       "        vertical-align: middle;\n",
       "    }\n",
       "\n",
       "    .dataframe tbody tr th {\n",
       "        vertical-align: top;\n",
       "    }\n",
       "\n",
       "    .dataframe thead th {\n",
       "        text-align: right;\n",
       "    }\n",
       "</style>\n",
       "<table border=\"1\" class=\"dataframe\">\n",
       "  <thead>\n",
       "    <tr style=\"text-align: right;\">\n",
       "      <th></th>\n",
       "      <th>url</th>\n",
       "    </tr>\n",
       "    <tr>\n",
       "      <th>residence</th>\n",
       "      <th></th>\n",
       "    </tr>\n",
       "  </thead>\n",
       "  <tbody>\n",
       "    <tr>\n",
       "      <th>สิริ เพลส แอร์พอร์ต ภูเก็ต (Siri Place Airport)</th>\n",
       "      <td>https://www.checkraka.com/house/sansiri/siri-p...</td>\n",
       "    </tr>\n",
       "    <tr>\n",
       "      <th>คณาสิริ ศาลายา - ปิ่นเกล้า (Kanasiri Salaya - Pinklao)</th>\n",
       "      <td>https://www.checkraka.com/house/sansiri/kanasi...</td>\n",
       "    </tr>\n",
       "    <tr>\n",
       "      <th>คณาสิริ พระราม 2 - วงแหวน (Kanasiri Rama 2 - Wongwaen)</th>\n",
       "      <td>https://www.checkraka.com/house/sansiri/kanasi...</td>\n",
       "    </tr>\n",
       "    <tr>\n",
       "      <th>บุราสิริ รังสิต (Burasiri Rangsit)</th>\n",
       "      <td>https://www.checkraka.com/house/sansiri/burasi...</td>\n",
       "    </tr>\n",
       "    <tr>\n",
       "      <th>สราญสิริ โคราช (Saransiri Korat)</th>\n",
       "      <td>https://www.checkraka.com/house/sansiri/sarans...</td>\n",
       "    </tr>\n",
       "    <tr>\n",
       "      <th>...</th>\n",
       "      <td>...</td>\n",
       "    </tr>\n",
       "    <tr>\n",
       "      <th>เอชเคป ซีรีน บางนา - วงแหวน (H-CAPE Serene Bangna - Wongwaen)</th>\n",
       "      <td>https://www.checkraka.com/house/เอชเคป-ซีรีน-บ...</td>\n",
       "    </tr>\n",
       "    <tr>\n",
       "      <th>บุราสิริ สันผีเสื้อ เชียงใหม่ (Burasiri Sanphisuea Chiangmai)</th>\n",
       "      <td>https://www.checkraka.com/house/sansiri/burasi...</td>\n",
       "    </tr>\n",
       "    <tr>\n",
       "      <th>ทาวน์ อเวนิว สองแคว-พิษณุโลก (Town Avenue Songkwae-Phitsanuloke)</th>\n",
       "      <td>https://www.checkraka.com/house/sansiri/town-a...</td>\n",
       "    </tr>\n",
       "    <tr>\n",
       "      <th>คณาสิริ ชัยพฤกษ์ - วงแหวน (Kanasiri Chaiyapruek - Wongwaen)</th>\n",
       "      <td>https://www.checkraka.com/house/sansiri/kanasi...</td>\n",
       "    </tr>\n",
       "    <tr>\n",
       "      <th>ฮาบิเทีย ไพร์ม ราชพฤกษ์ (Habitia Prime Ratchapruek)</th>\n",
       "      <td>https://www.checkraka.com/house/sansiri/habiti...</td>\n",
       "    </tr>\n",
       "  </tbody>\n",
       "</table>\n",
       "<p>70 rows × 1 columns</p>\n",
       "</div>"
      ],
      "text/plain": [
       "                                                                                                  url\n",
       "residence                                                                                            \n",
       "สิริ เพลส แอร์พอร์ต ภูเก็ต (Siri Place Airport)     https://www.checkraka.com/house/sansiri/siri-p...\n",
       "คณาสิริ ศาลายา - ปิ่นเกล้า (Kanasiri Salaya - P...  https://www.checkraka.com/house/sansiri/kanasi...\n",
       "คณาสิริ พระราม 2 - วงแหวน (Kanasiri Rama 2 - Wo...  https://www.checkraka.com/house/sansiri/kanasi...\n",
       "บุราสิริ รังสิต (Burasiri Rangsit)                  https://www.checkraka.com/house/sansiri/burasi...\n",
       "สราญสิริ โคราช (Saransiri Korat)                    https://www.checkraka.com/house/sansiri/sarans...\n",
       "...                                                                                               ...\n",
       "เอชเคป ซีรีน บางนา - วงแหวน (H-CAPE Serene Bang...  https://www.checkraka.com/house/เอชเคป-ซีรีน-บ...\n",
       "บุราสิริ สันผีเสื้อ เชียงใหม่ (Burasiri Sanphis...  https://www.checkraka.com/house/sansiri/burasi...\n",
       "ทาวน์ อเวนิว สองแคว-พิษณุโลก (Town Avenue Songk...  https://www.checkraka.com/house/sansiri/town-a...\n",
       "คณาสิริ ชัยพฤกษ์ - วงแหวน (Kanasiri Chaiyapruek...  https://www.checkraka.com/house/sansiri/kanasi...\n",
       "ฮาบิเทีย ไพร์ม ราชพฤกษ์ (Habitia Prime Ratchapr...  https://www.checkraka.com/house/sansiri/habiti...\n",
       "\n",
       "[70 rows x 1 columns]"
      ]
     },
     "execution_count": 6,
     "metadata": {},
     "output_type": "execute_result"
    }
   ],
   "source": [
    "data_df = pd.DataFrame([name_list,link_list]).transpose()\n",
    "data_df.columns = ['residence','url']\n",
    "data_df = data_df.set_index('residence')\n",
    "data_df"
   ]
  },
  {
   "cell_type": "code",
   "execution_count": null,
   "id": "6f312f7b",
   "metadata": {},
   "outputs": [],
   "source": []
  },
  {
   "cell_type": "code",
   "execution_count": null,
   "id": "fbccbc59",
   "metadata": {},
   "outputs": [],
   "source": []
  },
  {
   "cell_type": "code",
   "execution_count": null,
   "id": "bd9b14f0",
   "metadata": {},
   "outputs": [],
   "source": []
  },
  {
   "cell_type": "code",
   "execution_count": null,
   "id": "62e915b9",
   "metadata": {},
   "outputs": [],
   "source": []
  },
  {
   "cell_type": "code",
   "execution_count": null,
   "id": "2c6804fe",
   "metadata": {},
   "outputs": [],
   "source": []
  },
  {
   "cell_type": "code",
   "execution_count": null,
   "id": "3cc8d381",
   "metadata": {},
   "outputs": [],
   "source": []
  },
  {
   "cell_type": "code",
   "execution_count": null,
   "id": "f61a29e5",
   "metadata": {},
   "outputs": [],
   "source": []
  },
  {
   "cell_type": "markdown",
   "id": "029932a3",
   "metadata": {},
   "source": [
    "https://www.checkraka.com/house/?quicksearch_order=update%2CDESC&page=2"
   ]
  },
  {
   "cell_type": "code",
   "execution_count": null,
   "id": "eadd2320",
   "metadata": {},
   "outputs": [],
   "source": []
  },
  {
   "cell_type": "code",
   "execution_count": null,
   "id": "dc9be859",
   "metadata": {},
   "outputs": [],
   "source": []
  },
  {
   "cell_type": "code",
   "execution_count": null,
   "id": "68f77f4d",
   "metadata": {},
   "outputs": [],
   "source": []
  },
  {
   "cell_type": "code",
   "execution_count": null,
   "id": "72aba32f",
   "metadata": {},
   "outputs": [],
   "source": []
  },
  {
   "cell_type": "code",
   "execution_count": null,
   "id": "a6ba0a1f",
   "metadata": {},
   "outputs": [],
   "source": []
  },
  {
   "cell_type": "code",
   "execution_count": null,
   "id": "4ecb05db",
   "metadata": {},
   "outputs": [],
   "source": []
  },
  {
   "cell_type": "code",
   "execution_count": null,
   "id": "198d6077",
   "metadata": {},
   "outputs": [],
   "source": []
  },
  {
   "cell_type": "code",
   "execution_count": null,
   "id": "9a05b65b",
   "metadata": {},
   "outputs": [],
   "source": []
  }
 ],
 "metadata": {
  "kernelspec": {
   "display_name": "Python 3",
   "language": "python",
   "name": "python3"
  },
  "language_info": {
   "codemirror_mode": {
    "name": "ipython",
    "version": 3
   },
   "file_extension": ".py",
   "mimetype": "text/x-python",
   "name": "python",
   "nbconvert_exporter": "python",
   "pygments_lexer": "ipython3",
   "version": "3.8.8"
  }
 },
 "nbformat": 4,
 "nbformat_minor": 5
}
